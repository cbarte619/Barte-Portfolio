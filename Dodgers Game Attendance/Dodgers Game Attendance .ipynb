{
 "cells": [
  {
   "cell_type": "markdown",
   "id": "28a2a8bc-820c-4182-a28a-238dae8ccad0",
   "metadata": {},
   "source": [
    "# Caroline Barte\n",
    "# DSC 630 Week 3 Assignment"
   ]
  },
  {
   "cell_type": "markdown",
   "id": "b438f46d-348c-4eb6-a534-871919cde925",
   "metadata": {},
   "source": [
    "## Imports"
   ]
  },
  {
   "cell_type": "code",
   "execution_count": 1,
   "id": "725b30fe-e60d-43a1-b355-81b96e379bd8",
   "metadata": {},
   "outputs": [],
   "source": [
    "import pandas as pd"
   ]
  },
  {
   "cell_type": "code",
   "execution_count": 2,
   "id": "2f0a0ce9-eccf-4be4-8678-f67746f57c0f",
   "metadata": {},
   "outputs": [],
   "source": [
    "df = pd.read_csv('dodgers-2022.csv')"
   ]
  },
  {
   "cell_type": "code",
   "execution_count": 3,
   "id": "24300a40-f20f-4b92-87da-330bd67eafd4",
   "metadata": {},
   "outputs": [
    {
     "data": {
      "text/html": [
       "<div>\n",
       "<style scoped>\n",
       "    .dataframe tbody tr th:only-of-type {\n",
       "        vertical-align: middle;\n",
       "    }\n",
       "\n",
       "    .dataframe tbody tr th {\n",
       "        vertical-align: top;\n",
       "    }\n",
       "\n",
       "    .dataframe thead th {\n",
       "        text-align: right;\n",
       "    }\n",
       "</style>\n",
       "<table border=\"1\" class=\"dataframe\">\n",
       "  <thead>\n",
       "    <tr style=\"text-align: right;\">\n",
       "      <th></th>\n",
       "      <th>month</th>\n",
       "      <th>day</th>\n",
       "      <th>attend</th>\n",
       "      <th>day_of_week</th>\n",
       "      <th>opponent</th>\n",
       "      <th>temp</th>\n",
       "      <th>skies</th>\n",
       "      <th>day_night</th>\n",
       "      <th>cap</th>\n",
       "      <th>shirt</th>\n",
       "      <th>fireworks</th>\n",
       "      <th>bobblehead</th>\n",
       "    </tr>\n",
       "  </thead>\n",
       "  <tbody>\n",
       "    <tr>\n",
       "      <th>0</th>\n",
       "      <td>APR</td>\n",
       "      <td>10</td>\n",
       "      <td>56000</td>\n",
       "      <td>Tuesday</td>\n",
       "      <td>Pirates</td>\n",
       "      <td>67</td>\n",
       "      <td>Clear</td>\n",
       "      <td>Day</td>\n",
       "      <td>NO</td>\n",
       "      <td>NO</td>\n",
       "      <td>NO</td>\n",
       "      <td>NO</td>\n",
       "    </tr>\n",
       "    <tr>\n",
       "      <th>1</th>\n",
       "      <td>APR</td>\n",
       "      <td>11</td>\n",
       "      <td>29729</td>\n",
       "      <td>Wednesday</td>\n",
       "      <td>Pirates</td>\n",
       "      <td>58</td>\n",
       "      <td>Cloudy</td>\n",
       "      <td>Night</td>\n",
       "      <td>NO</td>\n",
       "      <td>NO</td>\n",
       "      <td>NO</td>\n",
       "      <td>NO</td>\n",
       "    </tr>\n",
       "    <tr>\n",
       "      <th>2</th>\n",
       "      <td>APR</td>\n",
       "      <td>12</td>\n",
       "      <td>28328</td>\n",
       "      <td>Thursday</td>\n",
       "      <td>Pirates</td>\n",
       "      <td>57</td>\n",
       "      <td>Cloudy</td>\n",
       "      <td>Night</td>\n",
       "      <td>NO</td>\n",
       "      <td>NO</td>\n",
       "      <td>NO</td>\n",
       "      <td>NO</td>\n",
       "    </tr>\n",
       "    <tr>\n",
       "      <th>3</th>\n",
       "      <td>APR</td>\n",
       "      <td>13</td>\n",
       "      <td>31601</td>\n",
       "      <td>Friday</td>\n",
       "      <td>Padres</td>\n",
       "      <td>54</td>\n",
       "      <td>Cloudy</td>\n",
       "      <td>Night</td>\n",
       "      <td>NO</td>\n",
       "      <td>NO</td>\n",
       "      <td>YES</td>\n",
       "      <td>NO</td>\n",
       "    </tr>\n",
       "    <tr>\n",
       "      <th>4</th>\n",
       "      <td>APR</td>\n",
       "      <td>14</td>\n",
       "      <td>46549</td>\n",
       "      <td>Saturday</td>\n",
       "      <td>Padres</td>\n",
       "      <td>57</td>\n",
       "      <td>Cloudy</td>\n",
       "      <td>Night</td>\n",
       "      <td>NO</td>\n",
       "      <td>NO</td>\n",
       "      <td>NO</td>\n",
       "      <td>NO</td>\n",
       "    </tr>\n",
       "    <tr>\n",
       "      <th>5</th>\n",
       "      <td>APR</td>\n",
       "      <td>15</td>\n",
       "      <td>38359</td>\n",
       "      <td>Sunday</td>\n",
       "      <td>Padres</td>\n",
       "      <td>65</td>\n",
       "      <td>Clear</td>\n",
       "      <td>Day</td>\n",
       "      <td>NO</td>\n",
       "      <td>NO</td>\n",
       "      <td>NO</td>\n",
       "      <td>NO</td>\n",
       "    </tr>\n",
       "    <tr>\n",
       "      <th>6</th>\n",
       "      <td>APR</td>\n",
       "      <td>23</td>\n",
       "      <td>26376</td>\n",
       "      <td>Monday</td>\n",
       "      <td>Braves</td>\n",
       "      <td>60</td>\n",
       "      <td>Cloudy</td>\n",
       "      <td>Night</td>\n",
       "      <td>NO</td>\n",
       "      <td>NO</td>\n",
       "      <td>NO</td>\n",
       "      <td>NO</td>\n",
       "    </tr>\n",
       "    <tr>\n",
       "      <th>7</th>\n",
       "      <td>APR</td>\n",
       "      <td>24</td>\n",
       "      <td>44014</td>\n",
       "      <td>Tuesday</td>\n",
       "      <td>Braves</td>\n",
       "      <td>63</td>\n",
       "      <td>Cloudy</td>\n",
       "      <td>Night</td>\n",
       "      <td>NO</td>\n",
       "      <td>NO</td>\n",
       "      <td>NO</td>\n",
       "      <td>NO</td>\n",
       "    </tr>\n",
       "    <tr>\n",
       "      <th>8</th>\n",
       "      <td>APR</td>\n",
       "      <td>25</td>\n",
       "      <td>26345</td>\n",
       "      <td>Wednesday</td>\n",
       "      <td>Braves</td>\n",
       "      <td>64</td>\n",
       "      <td>Cloudy</td>\n",
       "      <td>Night</td>\n",
       "      <td>NO</td>\n",
       "      <td>NO</td>\n",
       "      <td>NO</td>\n",
       "      <td>NO</td>\n",
       "    </tr>\n",
       "    <tr>\n",
       "      <th>9</th>\n",
       "      <td>APR</td>\n",
       "      <td>27</td>\n",
       "      <td>44807</td>\n",
       "      <td>Friday</td>\n",
       "      <td>Nationals</td>\n",
       "      <td>66</td>\n",
       "      <td>Clear</td>\n",
       "      <td>Night</td>\n",
       "      <td>NO</td>\n",
       "      <td>NO</td>\n",
       "      <td>YES</td>\n",
       "      <td>NO</td>\n",
       "    </tr>\n",
       "  </tbody>\n",
       "</table>\n",
       "</div>"
      ],
      "text/plain": [
       "  month  day  attend day_of_week   opponent  temp   skies day_night cap shirt  \\\n",
       "0   APR   10   56000     Tuesday    Pirates    67  Clear        Day  NO    NO   \n",
       "1   APR   11   29729   Wednesday    Pirates    58  Cloudy     Night  NO    NO   \n",
       "2   APR   12   28328    Thursday    Pirates    57  Cloudy     Night  NO    NO   \n",
       "3   APR   13   31601      Friday     Padres    54  Cloudy     Night  NO    NO   \n",
       "4   APR   14   46549    Saturday     Padres    57  Cloudy     Night  NO    NO   \n",
       "5   APR   15   38359      Sunday     Padres    65  Clear        Day  NO    NO   \n",
       "6   APR   23   26376      Monday     Braves    60  Cloudy     Night  NO    NO   \n",
       "7   APR   24   44014     Tuesday     Braves    63  Cloudy     Night  NO    NO   \n",
       "8   APR   25   26345   Wednesday     Braves    64  Cloudy     Night  NO    NO   \n",
       "9   APR   27   44807      Friday  Nationals    66  Clear      Night  NO    NO   \n",
       "\n",
       "  fireworks bobblehead  \n",
       "0        NO         NO  \n",
       "1        NO         NO  \n",
       "2        NO         NO  \n",
       "3       YES         NO  \n",
       "4        NO         NO  \n",
       "5        NO         NO  \n",
       "6        NO         NO  \n",
       "7        NO         NO  \n",
       "8        NO         NO  \n",
       "9       YES         NO  "
      ]
     },
     "execution_count": 3,
     "metadata": {},
     "output_type": "execute_result"
    }
   ],
   "source": [
    "df.head(10)"
   ]
  },
  {
   "cell_type": "markdown",
   "id": "401fde2f-e7e4-4200-91ab-60c46e40f867",
   "metadata": {},
   "source": [
    "## Analysis"
   ]
  },
  {
   "cell_type": "markdown",
   "id": "1a4f2a4a-8909-47fd-bd4d-d59538ccffd4",
   "metadata": {},
   "source": [
    "For this, I am going to use dummy variables and a correlation matrix to identify which variables have positive and negative correlation."
   ]
  },
  {
   "cell_type": "code",
   "execution_count": 7,
   "id": "d1f810f4-9c68-4418-a0e8-48c997b7ed58",
   "metadata": {},
   "outputs": [],
   "source": [
    "# Get dummy variables\n",
    "encoded = pd.get_dummies(df, columns=['month', \n",
    "                                      'day_of_week', 'opponent', 'skies', \n",
    "                                      'day_night', 'cap', 'shirt', \n",
    "                                      'fireworks', 'bobblehead'], \n",
    "                         drop_first=True)"
   ]
  },
  {
   "cell_type": "code",
   "execution_count": 9,
   "id": "ebd1015a-133b-41c3-92d6-b6c03d738410",
   "metadata": {},
   "outputs": [],
   "source": [
    "# Correlation matrix\n",
    "correlationmatrix = encoded.corr()"
   ]
  },
  {
   "cell_type": "code",
   "execution_count": 17,
   "id": "dbf0b598-9507-465f-bc47-a494f80fe43a",
   "metadata": {},
   "outputs": [],
   "source": [
    "# Sort by attendance correlation\n",
    "attendancecorrelation = correlationmatrix['attend'].sort_values(\n",
    "    ascending=False)"
   ]
  },
  {
   "cell_type": "code",
   "execution_count": 11,
   "id": "6ce858f5-c364-433f-83fd-6e67be84f3de",
   "metadata": {},
   "outputs": [
    {
     "data": {
      "text/plain": [
       "attend                   1.000000\n",
       "bobblehead_YES           0.581895\n",
       "day_of_week_Tuesday      0.355316\n",
       "month_JUN                0.295853\n",
       "opponent_Mets            0.236213\n",
       "opponent_Nationals       0.195667\n",
       "month_JUL                0.143837\n",
       "shirt_YES                0.133269\n",
       "opponent_White Sox       0.127046\n",
       "day_of_week_Saturday     0.107788\n",
       "temp                     0.098951\n",
       "month_AUG                0.098944\n",
       "opponent_Cubs            0.075310\n",
       "day_of_week_Sunday       0.065153\n",
       "opponent_Padres          0.045111\n",
       "day                      0.027093\n",
       "opponent_Phillies        0.020380\n",
       "fireworks_YES            0.002094\n",
       "opponent_Cardinals      -0.006967\n",
       "opponent_Marlins        -0.008912\n",
       "opponent_Reds           -0.009301\n",
       "day_of_week_Thursday    -0.019679\n",
       "day_night_Night         -0.043544\n",
       "cap_YES                 -0.055002\n",
       "opponent_Rockies        -0.060404\n",
       "opponent_Pirates        -0.071849\n",
       "opponent_Snakes         -0.073943\n",
       "opponent_Giants         -0.074763\n",
       "month_OCT               -0.103132\n",
       "month_SEP               -0.105443\n",
       "opponent_Astros         -0.134533\n",
       "skies_Cloudy            -0.150963\n",
       "opponent_Brewers        -0.157030\n",
       "day_of_week_Wednesday   -0.174723\n",
       "opponent_Braves         -0.209171\n",
       "month_MAY               -0.239471\n",
       "day_of_week_Monday      -0.307198\n",
       "Name: attend, dtype: float64"
      ]
     },
     "execution_count": 11,
     "metadata": {},
     "output_type": "execute_result"
    }
   ],
   "source": [
    "attendancecorrelation"
   ]
  },
  {
   "cell_type": "markdown",
   "id": "84ea0de6-a0c5-470e-b42d-a7a0f6e1e10e",
   "metadata": {},
   "source": [
    "## Conclusions"
   ]
  },
  {
   "cell_type": "markdown",
   "id": "e4ccc624-62f7-4104-98d3-9e700f610450",
   "metadata": {},
   "source": [
    "### What helps with attendance: Positive Correlations"
   ]
  },
  {
   "cell_type": "markdown",
   "id": "65004d54-cf44-4171-aaca-6c9bbda8453d",
   "metadata": {},
   "source": [
    "As one variable increases, the other variable also increases. The following variables aid in high attendance, and should be most notable when creating the game schedule. "
   ]
  },
  {
   "cell_type": "code",
   "execution_count": 12,
   "id": "75909f4b-7af5-4922-829f-bc46dc40ff22",
   "metadata": {},
   "outputs": [],
   "source": [
    "positivecorrelations = attendancecorrelation[attendancecorrelation > 0]"
   ]
  },
  {
   "cell_type": "code",
   "execution_count": 14,
   "id": "f706b5dc-bc4c-48d7-acd6-c43b292b33ba",
   "metadata": {},
   "outputs": [
    {
     "data": {
      "text/plain": [
       "attend                  1.000000\n",
       "bobblehead_YES          0.581895\n",
       "day_of_week_Tuesday     0.355316\n",
       "month_JUN               0.295853\n",
       "opponent_Mets           0.236213\n",
       "opponent_Nationals      0.195667\n",
       "month_JUL               0.143837\n",
       "shirt_YES               0.133269\n",
       "opponent_White Sox      0.127046\n",
       "day_of_week_Saturday    0.107788\n",
       "temp                    0.098951\n",
       "month_AUG               0.098944\n",
       "opponent_Cubs           0.075310\n",
       "day_of_week_Sunday      0.065153\n",
       "opponent_Padres         0.045111\n",
       "day                     0.027093\n",
       "opponent_Phillies       0.020380\n",
       "fireworks_YES           0.002094\n",
       "Name: attend, dtype: float64"
      ]
     },
     "execution_count": 14,
     "metadata": {},
     "output_type": "execute_result"
    }
   ],
   "source": [
    "positivecorrelations"
   ]
  },
  {
   "cell_type": "markdown",
   "id": "a9844bb5-d487-47a8-b25b-0eb0a2d850b8",
   "metadata": {},
   "source": [
    "As shown, the best factor which will help with attendance is the 'Bobblehead' variable. The most popular games were set on Tuesday, Saturday, or Sunday. June, July, and August yield higher attendance when compared to other months. As far as opponents, attendants prefer the Mets, Nationals, or White Sox. Guests also enjoy a free t shirt as a reason to attend. "
   ]
  },
  {
   "cell_type": "markdown",
   "id": "5feb7f24-c149-419e-bf95-1a3d49b75c9e",
   "metadata": {},
   "source": [
    "A rating of 0.3 to 0.7 yields the most moderate correlation, and should be what the game schedulers favor the most. For this analysis, the most attended games were on Tuesdays and there was a Bobblehead giveaway. "
   ]
  },
  {
   "cell_type": "markdown",
   "id": "b82b42bd-2bd0-467f-8576-771523010e95",
   "metadata": {},
   "source": [
    "### What to avoid: Negative correlations"
   ]
  },
  {
   "cell_type": "markdown",
   "id": "5a70b90b-9402-44fa-ac36-a31fa2397c2a",
   "metadata": {},
   "source": [
    "As one variable increases, the other variable decreases. This means the following variables should be avoided when creating the game schedule, as they do not help attendance."
   ]
  },
  {
   "cell_type": "code",
   "execution_count": 15,
   "id": "434ae026-6688-4be2-a144-a64d10990887",
   "metadata": {},
   "outputs": [],
   "source": [
    "negativecorrelations = attendancecorrelation[attendancecorrelation < 0]"
   ]
  },
  {
   "cell_type": "code",
   "execution_count": 16,
   "id": "d1380d0e-8024-42ad-991f-bd0b46fa3da1",
   "metadata": {},
   "outputs": [
    {
     "data": {
      "text/plain": [
       "opponent_Cardinals      -0.006967\n",
       "opponent_Marlins        -0.008912\n",
       "opponent_Reds           -0.009301\n",
       "day_of_week_Thursday    -0.019679\n",
       "day_night_Night         -0.043544\n",
       "cap_YES                 -0.055002\n",
       "opponent_Rockies        -0.060404\n",
       "opponent_Pirates        -0.071849\n",
       "opponent_Snakes         -0.073943\n",
       "opponent_Giants         -0.074763\n",
       "month_OCT               -0.103132\n",
       "month_SEP               -0.105443\n",
       "opponent_Astros         -0.134533\n",
       "skies_Cloudy            -0.150963\n",
       "opponent_Brewers        -0.157030\n",
       "day_of_week_Wednesday   -0.174723\n",
       "opponent_Braves         -0.209171\n",
       "month_MAY               -0.239471\n",
       "day_of_week_Monday      -0.307198\n",
       "Name: attend, dtype: float64"
      ]
     },
     "execution_count": 16,
     "metadata": {},
     "output_type": "execute_result"
    }
   ],
   "source": [
    "negativecorrelations"
   ]
  },
  {
   "cell_type": "markdown",
   "id": "63617f15-9cc1-479a-896f-a1897cb6c8d9",
   "metadata": {},
   "source": [
    "As shown, the most common least attended games were on Mondays or Wednesdays. May, September, and October were not as popular compared to the summer months. Least popular opponents were the Braves, Brewers, and Astros. Most audiences do not favor cloudy days."
   ]
  },
  {
   "cell_type": "markdown",
   "id": "db11363f-9c57-4fc5-8d63-53607afda3a6",
   "metadata": {},
   "source": [
    "Like postive correlations, a rating of 0.3 to 0.7 yields the most moderate correlation, and should be what the game schedulers avoid the most. For this analysis, the only moderate correlation is Monday games, and that should be what is most avoided."
   ]
  },
  {
   "cell_type": "markdown",
   "id": "1f6025b8-7004-4b57-babb-79e3435d014d",
   "metadata": {},
   "source": [
    "## Suggestions"
   ]
  },
  {
   "cell_type": "markdown",
   "id": "61c66429-d808-4ff3-937b-2d46ade72ccd",
   "metadata": {},
   "source": [
    "In conclusion, the variables that help with attendance and the variables that harm attendance were listed. To build next year's schedule, I highly suggest using both pieces of information in tandem. For example, the variable which yielded the highest attendance was the bobblehead variable, but the least attended games were on Mondays or Wednesdays. If a bobble head was given away on Mondays or Wednesdays, attendance would most likely increase. The most popular opponents are Mets, Nationals, or White Sox, but September and October were least popular months. If these games were scheduled during less popular months, attendance would most likely go up. \n",
    "\n",
    "In addition to the long-term change of the schedule, some precautions could be taken to aid attendance at the last minute. For example, cloudy days were proven to yield a weaker attendance. To aid this, ticket prices could decrease on the day of the game. Or a stock of free T-shirts could be kept at the arena and they could be given out to games with the least popular opponents or in the less popular months. "
   ]
  }
 ],
 "metadata": {
  "kernelspec": {
   "display_name": "Python 3 (ipykernel)",
   "language": "python",
   "name": "python3"
  },
  "language_info": {
   "codemirror_mode": {
    "name": "ipython",
    "version": 3
   },
   "file_extension": ".py",
   "mimetype": "text/x-python",
   "name": "python",
   "nbconvert_exporter": "python",
   "pygments_lexer": "ipython3",
   "version": "3.11.7"
  }
 },
 "nbformat": 4,
 "nbformat_minor": 5
}
